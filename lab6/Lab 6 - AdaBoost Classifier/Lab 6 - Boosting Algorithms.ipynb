{
 "cells": [
  {
   "attachments": {},
   "cell_type": "markdown",
   "metadata": {},
   "source": [
    "# Lab 6 - Classifiers Boosting Algorithms\n",
    "\n",
    "In this lab, we will implement the AdaBoost algorithm as an ensemble learning technique which\n",
    "aims to combine a number of weak classifiers to yield a strong classifier at the end.\n",
    "The idea of this lab is to identify whether a tumor with given characteristics is malignant or\n",
    "benign. This is a two-class classification problem.\n",
    "\n",
    "## Dataset and Features\n",
    "\n",
    "You will be working on the dataset from *Hastie et al,* for breast tumor classification with 10 features representing the tumor's:\n",
    "\n",
    "                              1. Area            6. Texture\n",
    "                              2. Perimeter       7. Symmetry\n",
    "                              3. Radius          8. Greyscale Level\n",
    "                              4. Compactness     9. Fractal Dimension\n",
    "                              5. Concavity      10. Coastline Approximation.\n",
    "There is one output variable which is diagnosis. It takes one of two values `+1` for malignant and `-1` for benign."
   ]
  },
  {
   "cell_type": "markdown",
   "metadata": {},
   "source": [
    "### Question 1:\n",
    "Why it is sometimes better to have the two class values `+1` and `-1` instead of `+1`\n",
    "and `0`?\\\n",
    "**HINT :** Think about the voting scheme at the end of the boosting algorithm. How can the class values\n",
    "affect this scheme?"
   ]
  },
  {
   "cell_type": "code",
   "execution_count": 7,
   "metadata": {},
   "outputs": [
    {
     "data": {
      "text/plain": [
       "'\\n    Your answer: \\n'"
      ]
     },
     "execution_count": 7,
     "metadata": {},
     "output_type": "execute_result"
    }
   ],
   "source": [
    "'''\n",
    "    Your answer: \n",
    "\n",
    "Consider the case that we have only 2 weak classifiers. If classifier 1 voted with 1 and the \n",
    "second classifier voted with 0 ==> the total score is 1 which is not accurate but if the second classifier\n",
    "voted with -1 the final score will be 0 which more accurate as it say that 50% it's a malignant and 50% benign.\n",
    "+1 and -1 are more representative in case of equality in votes.  \n",
    "  \n",
    "When using boosting algorithms, it is sometimes better to have two class values of +1 and -1 instead of +1 and 0. The reason for this is related to\n",
    "the way the boosting algorithm combines the outputs of multiple weak classifiers to produce a final prediction.\n",
    "\n",
    "In the boosting algorithm, each weak classifier is trained on a subset of the data and assigned a weight based on its performance. The final\n",
    "prediction is then determined by a weighted majority vote of the weak classifiers. Specifically, each weak classifier's vote is weighted by its \n",
    "corresponding weight, and the final prediction is the sign of the sum of these weighted votes.\n",
    "\n",
    "When using class values of +1 and -1, the weak classifiers can output either +1 or -1, and their votes will be weighted accordingly.\n",
    "In contrast, if the class values are +1 and 0, the weak classifiers can output either +1 or 0, and the votes for 0 will not contribute to the final prediction.\n",
    "\n",
    "Therefore, having two class values of +1 and -1 ensures that all weak classifiers contribute to the final prediction, \n",
    "regardless of their output. This can lead to better performance compared to having class values of +1 and 0.\n",
    "\n",
    "'''"
   ]
  },
  {
   "cell_type": "markdown",
   "metadata": {},
   "source": [
    "## Requirement\n",
    "You are required to fill the function `adaboost_classifier(Y_train, X_train, Y_test, X_test, T, clf).`\\\n",
    "This function takes as parameters:\n",
    "\n",
    "| | |\n",
    "|:---|:-|\n",
    "| **Y_train**| The target values for the training set |\n",
    "| **X_train**| The input features for the training set.|\n",
    "| **Y_test**| The target values for the test set.|\n",
    "| **Y_train**| The input features for the training set.|\n",
    "| **T**| The number of iterations of the AdaBoost Algorithm.|\n",
    "| **clf**| The classifier to be used. (In our case, we are using a decision tree stump as a base classifier). You can use any other classifier.|\n",
    "\n",
    "This function should return two values:\n",
    "- The accuracy of the model on the training set.\n",
    "- The accuracy of the model on the test set.\n",
    "\n",
    "\n",
    "#### Fair Note:\n",
    "In the explanation video, we assumed that (T) is the number of models you want to fit. However, this is not always the case. You may have a model base (like here we have decision trees) and you are allowed to use as many of it as you can. So (T) here becomes the number of iterations where your goal is to enhance the performance with as few iterations as possible. \n",
    "\n",
    "Do not get confused:\n",
    "- If your case is you have T models only, we set T = number of models to fit.\n",
    "- If you are allowed to use as many models as you can (as many decision trees as you need), then T is the number of iterations to choose. In such case, T becomes a parameter controlled by the programmer."
   ]
  },
  {
   "cell_type": "code",
   "execution_count": 8,
   "metadata": {},
   "outputs": [],
   "source": [
    "## imports ##\n",
    "import pandas as pd\n",
    "import numpy as np\n",
    "from sklearn.tree import DecisionTreeClassifier\n",
    "from sklearn.model_selection import train_test_split\n",
    "from sklearn.datasets import make_hastie_10_2\n",
    "\n",
    "import utils"
   ]
  },
  {
   "cell_type": "markdown",
   "metadata": {},
   "source": [
    "**NOTE** we prepared some utility functions to help you throughout the lab. please go and check the file *utils.py* and make sure you understand each function and know how to use it.\n",
    "\n",
    "### TODO: AdaBoost Implementation\n",
    "\n",
    "AdaBoost is an iterative algorithm that gives weights for the best classifier every iteration, updates weights of the data points, then repeats until convergence.\n",
    "\n",
    "The steps of the algorithm are:\n",
    "\n",
    "1. Initialize weights of the training examples:\n",
    "\n",
    "$$w_{m} = \\frac {1}{M}, m = 1,2,...M$$\n",
    "\n",
    "                                        M: number of training examples. \n",
    "\n",
    "2. For t=1 to $T$:\n",
    "\n",
    "    a) Select a classifier $h_{t}$ that best fits to the training data using weights $w_{m}$ of the training examples.\n",
    "\n",
    "    b) Compute error of $h_{t}$ as:\n",
    "$$err_{t} = \\frac {\\Sigma_{m=1}^{M} w_{m} \\phi (c_{m} \\neq h_{t}(x_{m}))}{\\Sigma_{m=1}^{M} w_{m}}$$\n",
    "\n",
    "    c) Compute weight of classifier:\n",
    "$$\\alpha_{t} = \\log (\\frac {1-err_{t}}{err_{t}} )$$\n",
    "\n",
    "    d) Update weights of wrongly classified examples:\n",
    "$$w_{m} = w_{m} * \\exp^{\\alpha_{t} \\phi (c_{m} \\neq h_{t}(x_{m}))}, \\space m = 1 ... M$$\n",
    "\n",
    "    e) Renormalize weights $w_{m}$\n",
    "\n",
    "\n",
    "\\\n",
    "3. Output: $C(x)= argmax_{k}\\space (\\space \\Sigma_{t=1}^{T} \\alpha_{t} * \\phi (h_{t}(x) = k)) \\space)$\n",
    "\n",
    "**Where** in step 2.B and 2.D, the $\\phi (y)$ function is called the *miss indicator* function that gives values:\n",
    "\n",
    "                                     1: if y is True\n",
    "                                     0: if y is False"
   ]
  },
  {
   "cell_type": "code",
   "execution_count": 9,
   "metadata": {},
   "outputs": [],
   "source": [
    "def adaboost_classifier(Y_train, X_train, Y_test, X_test, T, clf):\n",
    "    \n",
    "    #TODO: FILL THE FUNCTION with the implementation as the steps above\n",
    "\n",
    "    # TODO [1]: Initialize weights\n",
    "    w = np.ones(len(X_train)) / len(X_train)\n",
    "\n",
    "\n",
    "    ## TODO [2]:  Initialize the training and test data with empty array placeholders\n",
    "    #### Hint: what should be their shape?\n",
    "    pred_train =  np.zeros((T,len(X_train))) ## predicted classes of the training examples\n",
    "    pred_test =  np.zeros((T,len(X_test)))  ## predicted classes of the test examples\n",
    "\n",
    "    ## TODO [3]: loop over the boosting iterations \n",
    "    for i in range(T): \n",
    "\n",
    "        # TODO [4]: Fit a classifier with the specific weights \n",
    "        ## TODO [4.A]: fit the classifier on the training data\n",
    "        #### Hint: search how sklearn.tree.DecisionTreeClassifier fits classifier on data\n",
    "        ### Hint: search for parameter weights in the fit matrix\n",
    "        clf.fit(X_train,Y_train, w)\n",
    "        # TODO [4.B]: predict classes for the training data and test data\n",
    "        pred_train_i = clf.predict(X_train)\n",
    "        pred_test_i = clf.predict(X_test)\n",
    "        \n",
    "        # TODO [5]: calculate the miss Indicator function\n",
    "        I = (pred_train_i != Y_train)   \n",
    "        # TODO [6]: calculate the error for the current classifier (err_t)\n",
    "        err_t =  np.sum(w * I)/np.sum(w)\n",
    "        \n",
    "        # TODO [7]: calculate current classifier weight (Alpha_t)\n",
    "        alpha_t =  np.log((1-err_t)/err_t)\n",
    "        \n",
    "        # TODO [8]: update the weights \n",
    "        w = w * np.exp(alpha_t * I)  \n",
    "        # TODO [9] Add to the overall predictions\n",
    "        pred_train[i]=pred_train_i * alpha_t\n",
    "        pred_test[i]=pred_test_i * alpha_t\n",
    "        \n",
    "        \n",
    "    pred_train = np.sum(pred_train, axis=0)\n",
    "    pred_test = np.sum(pred_test, axis=0)    \n",
    "    pred_train, pred_test = np.sign(pred_train), np.sign(pred_test) \n",
    "    # TODO [10]: Return error rate in train and test set\n",
    "    #### Hint: use function get_accuracy from utils.py\n",
    "    train_accuracy = utils.get_accuracy(pred_train,Y_train)\n",
    "    test_accuracy = utils.get_accuracy(pred_test,Y_test)\n",
    "    train_error = utils.get_error_rate(pred_train,Y_train)\n",
    "    test_error = utils.get_error_rate(pred_test,Y_test)\n",
    "    print(\"Acuuracy: training: \",train_accuracy*100,\"%\",\" , test: \",test_accuracy*100,\"%\")\n",
    "    return train_accuracy,test_accuracy,train_error, test_error"
   ]
  },
  {
   "cell_type": "markdown",
   "metadata": {},
   "source": [
    "### Testing the Boosted Classifier\n",
    "\n",
    "Now we will use the function you implemented to build a classifer.\\\n",
    "You will not change code here, only read the code below and run it to see how **AdaBoost** enhanced the performance."
   ]
  },
  {
   "cell_type": "code",
   "execution_count": 10,
   "metadata": {},
   "outputs": [
    {
     "name": "stdout",
     "output_type": "stream",
     "text": [
      "Reading Data ...\n",
      "Number of Iterations :  10\n",
      "Acuuracy: training:  66.38541666666666 %  , test:  65.79166666666667 %\n",
      "Number of Iterations :  60\n",
      "Acuuracy: training:  82.21875 %  , test:  80.375 %\n",
      "Number of Iterations :  110\n",
      "Acuuracy: training:  86.95833333333334 %  , test:  85.16666666666667 %\n",
      "Number of Iterations :  160\n",
      "Acuuracy: training:  88.66666666666667 %  , test:  86.33333333333333 %\n",
      "Number of Iterations :  210\n",
      "Acuuracy: training:  89.07291666666667 %  , test:  86.83333333333333 %\n",
      "Number of Iterations :  260\n",
      "Acuuracy: training:  91.07291666666667 %  , test:  88.58333333333334 %\n",
      "Number of Iterations :  310\n",
      "Acuuracy: training:  92.52083333333333 %  , test:  90.29166666666667 %\n",
      "Number of Iterations :  360\n",
      "Acuuracy: training:  92.6875 %  , test:  90.58333333333334 %\n",
      "[0.6638541666666666, 0.8221875, 0.8695833333333334, 0.8866666666666667, 0.8907291666666667, 0.9107291666666667, 0.9252083333333333, 0.926875]\n",
      "[0.6579166666666667, 0.80375, 0.8516666666666667, 0.8633333333333333, 0.8683333333333333, 0.8858333333333334, 0.9029166666666667, 0.9058333333333334]\n"
     ]
    },
    {
     "name": "stderr",
     "output_type": "stream",
     "text": [
      "d:\\Astudy\\third year\\second term\\NN\\labs\\lab6\\Lab 6 - AdaBoost Classifier\\utils.py:20: UserWarning: FixedFormatter should only be used together with FixedLocator\n",
      "  plot1.set_xticklabels(range(0, 450, 50))\n"
     ]
    },
    {
     "data": {
      "image/png": "[encoded data removed]",
      "text/plain": [
       "<Figure size 576x432 with 1 Axes>"
      ]
     },
     "metadata": {
      "needs_background": "light"
     },
     "output_type": "display_data"
    },
    {
     "name": "stderr",
     "output_type": "stream",
     "text": [
      "d:\\Astudy\\third year\\second term\\NN\\labs\\lab6\\Lab 6 - AdaBoost Classifier\\utils.py:20: UserWarning: FixedFormatter should only be used together with FixedLocator\n",
      "  plot1.set_xticklabels(range(0, 450, 50))\n"
     ]
    },
    {
     "data": {
      "image/png": "[encoded data removed]",
      "text/plain": [
       "<Figure size 576x432 with 1 Axes>"
      ]
     },
     "metadata": {
      "needs_background": "light"
     },
     "output_type": "display_data"
    }
   ],
   "source": [
    "#### DO NOT CHANGE CODE ####\n",
    "\n",
    "## First, read the dataset\n",
    "x,y = make_hastie_10_2()\n",
    "df = pd.DataFrame(x)\n",
    "df['Y'] = y\n",
    "print('Reading Data ...')\n",
    "\n",
    "# Split into training and test set\n",
    "train, test = train_test_split(df, test_size=0.2) # this function shuffles the data points, and splits the data into\n",
    "                                                  # 80% training set and 20% test set (indicated by test_size=0.2)\n",
    "\n",
    "\n",
    "X_train, Y_train = train.iloc[:, :-1], train.iloc[:, -1]\n",
    "X_test, Y_test = test.iloc[:, :-1], test.iloc[:, -1]\n",
    "# Fit a simple decision tree first\n",
    "clf_tree = DecisionTreeClassifier(max_depth=1, random_state=1)\n",
    "\n",
    "# Fit Adaboost classifier using a decision tree as base estimator\n",
    "# Test with different number of iterations\n",
    "acc_train, acc_test = [],[]\n",
    "err_train, err_test = [],[]\n",
    "x_range = range(10, 410, 50)\n",
    "for i in x_range:\n",
    "    print('Number of Iterations : ' , i)\n",
    "    # print(Y_train)\n",
    "    acc_i = adaboost_classifier(Y_train, X_train, Y_test, X_test, i, clf_tree)\n",
    "    acc_train.append(acc_i[0])\n",
    "    acc_test.append(acc_i[1])\n",
    "    err_train.append(acc_i[2])\n",
    "    err_test.append(acc_i[3])\n",
    "# Compare error rate vs number of iterations\n",
    "# print(acc_train)\n",
    "# print(acc_test)\n",
    "print('--------------acuuracy plot------------------')\n",
    "utils.plot_accuracy(acc_train, acc_test)\n",
    "print('--------------error plot------------------')\n",
    "utils.plot_accuracy(err_train, err_test)"
   ]
  },
  {
   "cell_type": "markdown",
   "metadata": {},
   "source": [
    "### Question 2:\n",
    "Justify why the plot is the way it is (is it increasing or decreasing? why? when does it flattens out?)"
   ]
  },
  {
   "cell_type": "code",
   "execution_count": 11,
   "metadata": {},
   "outputs": [
    {
     "data": {
      "text/plain": [
       "'\\n    Your answer:\\n'"
      ]
     },
     "execution_count": 11,
     "metadata": {},
     "output_type": "execute_result"
    }
   ],
   "source": [
    "'''\n",
    "    Your answer:\n",
    "    the accuracy plot is increasing as we increase thr number of iterations\n",
    "    After each iteration, the weights are updated using more realistic values and then the predictions are updated\n",
    "    to more realistic labels. So, the more number of iterations, the better accuracy and less error you get.\n",
    "    As boosting iterations proceed the error rate steadily decreases and the accuracy steadily increases.\n",
    "\n",
    "    Now as we can see, at some point it starts to decrease then flatten out which means that there is less to learn\n",
    "    every iteration (at the beginning with 65 percent accuracy it had much to learn.) so its also natural for the \n",
    "    accuracy improvement to slow down as we go. \n",
    "\n",
    "    In general, increasing the number of iterations will improve the accuracy of the final boosted classifier, but there is a risk of overfitting \n",
    "    the training data if the number of iterations is too high.\n",
    "\n",
    "Typically, a reasonable number of iterations for Adaboost can range from 50 to a few hundred, but it's important to use cross-validation or \n",
    "other techniques to determine the optimal number of iterations for a specific problem.\n",
    "\n",
    "\n",
    "    the error plot is the inverse of accuracy plot\n",
    "'''"
   ]
  },
  {
   "cell_type": "markdown",
   "metadata": {},
   "source": [
    "### Question 3\n",
    "\n",
    "The number of iterations (T) is what we call a hyper parameter:\n",
    "   - Its value differs from model to model and from problem to problem.\n",
    "   - Its value is not learnt by time, it is set by the programmer.\n",
    "   \n",
    "Suggest ways to select the optimal T keeping in mind that:\n",
    "   - If T is too big, the training time is large (you loop for T times, each time takes a model to fit and this model might take hours to fit)\n",
    "   - If T is too small, the boosting might not reach the best values it can get.\n",
    "   \n",
    "   \n",
    "\n",
    "**HINT**: Look at the graph of number of iterations vs performance and search for elbow method. Try to understand it and explain what it does.\\\n",
    "**HINT**: There are other hyper-parameter selection techniques, search for them as well."
   ]
  },
  {
   "cell_type": "code",
   "execution_count": 12,
   "metadata": {},
   "outputs": [
    {
     "data": {
      "text/plain": [
       "'\\n    Your answer:\\n'"
      ]
     },
     "execution_count": 12,
     "metadata": {},
     "output_type": "execute_result"
    }
   ],
   "source": [
    "'''\n",
    "    Your answer:\n",
    "\n",
    "The Elbow Method is a technique that can be used to choose the optimal number of iterations for Adaboost.\n",
    " It works by plotting the accuracy or error rate of the Adaboost model against the number of iterations and identifying the \"elbow point\" on \n",
    " the curve, which is the point at which the curve starts to flatten out.\n",
    "\n",
    "The steps to use the Elbow Method for Adaboost are as follows:\n",
    "\n",
    "Split the data into training and validation sets.\n",
    "Train Adaboost with a range of iterations (e.g., 50, 100, 150, 200) on the training set.\n",
    "Evaluate the performance of Adaboost on the validation set at each iteration and record the accuracy or error rate.\n",
    "Plot the accuracy or error rate against the number of iterations.\n",
    "Identify the elbow point on the curve, which is the point at which the curve starts to flatten out.\n",
    "Choose the number of iterations corresponding to the elbow point as the optimal number of iterations for Adaboost.\n",
    "The Elbow Method can help prevent overfitting and identify the optimal number of iterations for Adaboost. However, \n",
    "it's important to evaluate the performance of the Adaboost model on a validation set or using cross-validation to ensure that the chosen number of iterations \n",
    "produces the best results.\n",
    "\n",
    "it our example the elbow point is 350\n",
    "    \n",
    "here are several techniques that can be used for hyperparameter selection in Adaboost:\n",
    "\n",
    "1-Grid search: This technique involves defining a grid of possible hyperparameter values and exhaustively evaluating the performance of Adaboost on each \n",
    "combination of hyperparameters. The optimal hyperparameters are chosen based on the best performance.\n",
    "\n",
    "2-Random search: This technique involves randomly sampling hyperparameter values from a defined search space and evaluating the performance of \n",
    "Adaboost on each combination of hyperparameters. The optimal hyperparameters are chosen based on the best performance.\n",
    "\n",
    "3-Bayesian optimization: This technique involves building a probabilistic model of the objective function (e.g., classification accuracy) and using it \n",
    "to guide the selection of hyperparameters. Bayesian optimization can be more efficient than grid search or random search when the search space is large.\n",
    "\n",
    "4-Cross-validation: This technique involves partitioning the data into training and validation sets and evaluating the performance of Adaboost on \n",
    "each combination of hyperparameters using cross-validation. The optimal hyperparameters are chosen based on the best performance on the validation set.\n",
    "\n",
    "5-Ensemble methods: This technique involves combining multiple Adaboost models trained with different hyperparameters to form a final model.\n",
    "Ensemble methods can be used to reduce the sensitivity of the model to the choice of hyperparameters.\n",
    "\n",
    "Overall, the choice of hyperparameter selection technique will depend on the specific problem being solved and the available data. \n",
    "It's important to experiment with different techniques and evaluate the performance of Adaboost on a validation set or using cross-validation\n",
    "to determine the optimal hyperparameters for a given problem.\n",
    "\n",
    "//////////////////////////////////////////////////////////////////////////////////////////////////////////////////////////////////////////\n",
    "\n",
    "'''"
   ]
  }
 ],
 "metadata": {
  "kernelspec": {
   "display_name": "Python 3",
   "language": "python",
   "name": "python3"
  },
  "language_info": {
   "codemirror_mode": {
    "name": "ipython",
    "version": 3
   },
   "file_extension": ".py",
   "mimetype": "text/x-python",
   "name": "python",
   "nbconvert_exporter": "python",
   "pygments_lexer": "ipython3",
   "version": "3.9.12"
  }
 },
 "nbformat": 4,
 "nbformat_minor": 4
}
